{
 "cells": [
  {
   "cell_type": "code",
   "execution_count": 1,
   "metadata": {},
   "outputs": [],
   "source": [
    "import torch\n",
    "import torch.nn as nn\n",
    "import torch.nn.functional as F \n",
    "import numpy as np \n",
    "import torch_geometric.nn as pyg_nn \n",
    "import torch_geometric.utils as pyg_utils\n",
    "from torch_geometric.data import Dataset, Data, DataLoader\n",
    "import torch.optim as optim\n",
    "import os.path as osp\n",
    "import scipy.io as sio\n",
    "from dataset import QUASARDataset\n",
    "from primal_model import PrimalModel\n",
    "from primal_train import validate"
   ]
  },
  {
   "cell_type": "code",
   "execution_count": 2,
   "metadata": {},
   "outputs": [
    {
     "name": "stdout",
     "output_type": "stream",
     "text": [
      "Data graph type: 1.\n",
      "Data graph type: 1.\n",
      "Data graph type: 1.\n",
      "Data graph type: 1.\n"
     ]
    },
    {
     "name": "stderr",
     "output_type": "stream",
     "text": [
      "Processing...\n"
     ]
    },
    {
     "name": "stdout",
     "output_type": "stream",
     "text": [
      "Expected # graphs: 100. Actual # graphs: 100.\n",
      "Data graph type: 1.\n",
      "Data graph type: 1.\n"
     ]
    },
    {
     "name": "stderr",
     "output_type": "stream",
     "text": [
      "Done!\n"
     ]
    }
   ],
   "source": [
    "test_dir_1 = '/home/hank/Datasets/QUASAR/small'\n",
    "testset_1 = QUASARDataset(test_dir_1,num_graphs=100,remove_self_loops=True)\n",
    "test_dir_2 = '/home/hank/Datasets/QUASAR/small-test'\n",
    "testset_2 = QUASARDataset(test_dir_2,num_graphs=100,remove_self_loops=True)\n",
    "test_dir_3 = '/home/hank/Datasets/QUASAR/N40-100'\n",
    "testset_3 = QUASARDataset(test_dir_3,num_graphs=100,remove_self_loops=True)\n",
    "test_dir_4 = '/home/hank/Datasets/QUASAR/N50-100'\n",
    "testset_4 = QUASARDataset(test_dir_4,num_graphs=100,remove_self_loops=True)\n",
    "train_dir = '/home/hank/Datasets/QUASAR/N30-1000'\n",
    "trainset = QUASARDataset(train_dir,num_graphs=1000,remove_self_loops=True)\n",
    "val_dir = '/home/hank/Datasets/QUASAR/N30-100'\n",
    "valset = QUASARDataset(val_dir,num_graphs=100,remove_self_loops=True)\n",
    "DEVICE = torch.device('cpu')"
   ]
  },
  {
   "cell_type": "code",
   "execution_count": 8,
   "metadata": {},
   "outputs": [
    {
     "name": "stdout",
     "output_type": "stream",
     "text": [
      "Model: node_feature_mode = 1, mp_input_dim = 6, relu_slope = 0.1. GNN type: SAGE. Residual: True. BatchNorm: True. Factor: True. Resmode: 1.\n",
      "PrimalModel(\n",
      "  (mp_convs): ModuleList(\n",
      "    (0): SAGEConv(6, 64)\n",
      "    (1): SAGEConv(64, 64)\n",
      "    (2): SAGEConv(64, 64)\n",
      "    (3): SAGEConv(64, 64)\n",
      "    (4): SAGEConv(64, 64)\n",
      "    (5): SAGEConv(64, 64)\n",
      "    (6): SAGEConv(64, 64)\n",
      "    (7): SAGEConv(64, 64)\n",
      "    (8): SAGEConv(64, 64)\n",
      "    (9): SAGEConv(64, 64)\n",
      "    (10): SAGEConv(64, 64)\n",
      "  )\n",
      "  (primal_node_mlp): ModuleList(\n",
      "    (0): Linear(in_features=64, out_features=64, bias=True)\n",
      "    (1): Linear(in_features=64, out_features=64, bias=True)\n",
      "    (2): Linear(in_features=64, out_features=4, bias=True)\n",
      "  )\n",
      "  (bn_layers): ModuleList(\n",
      "    (0): BatchNorm(64)\n",
      "    (1): BatchNorm(64)\n",
      "    (2): BatchNorm(64)\n",
      "    (3): BatchNorm(64)\n",
      "    (4): BatchNorm(64)\n",
      "    (5): BatchNorm(64)\n",
      "    (6): BatchNorm(64)\n",
      "    (7): BatchNorm(64)\n",
      "    (8): BatchNorm(64)\n",
      "    (9): BatchNorm(64)\n",
      "  )\n",
      ")\n",
      "Train acc: 0.4972.\n",
      "Val acc: 0.6392.\n",
      "Test acc 1: 0.6874.\n",
      "Test acc 2: 0.6594.\n",
      "Test acc 3: 0.6395.\n",
      "Test acc 4: 0.6438.\n"
     ]
    }
   ],
   "source": [
    "GNN_TYPE = 'SAGE'\n",
    "GNN_HIDDEN_DIM = 64\n",
    "GNN_OUT_DIM = GNN_HIDDEN_DIM\n",
    "GNN_LAYER = 9\n",
    "LR = 0.01\n",
    "NODE_MODE = 1\n",
    "DATA_GRAPH_TYPE = 1\n",
    "NUM_EPOCHES = 1000\n",
    "DROPOUT = 0.2\n",
    "MLP_LAYER = 1\n",
    "RESIDUAL = True\n",
    "BATCHNORM = True\n",
    "FACTOR = True\n",
    "model = PrimalModel(\n",
    "    node_feature_mode=NODE_MODE,\n",
    "    gnn_type=GNN_TYPE,\n",
    "    mp_hidden_dim=GNN_HIDDEN_DIM,mp_output_dim=GNN_OUT_DIM,mp_num_layers=GNN_LAYER, \n",
    "    primal_node_mlp_hidden_dim=GNN_OUT_DIM,primal_node_mlp_output_dim=10,\n",
    "    node_mlp_num_layers=MLP_LAYER,\n",
    "    primal_edge_mlp_hidden_dim=GNN_OUT_DIM,primal_edge_mlp_output_dim=10,\n",
    "    edge_mlp_num_layers=MLP_LAYER,\n",
    "    dropout_rate=DROPOUT,\n",
    "    relu_slope=0.1,\n",
    "    residual=RESIDUAL,\n",
    "    batchnorm=BATCHNORM,\n",
    "    factor=FACTOR)\n",
    "print(model)\n",
    "# model.load_state_dict(torch.load('./models/primal_model_N30-1000_SAGE_9_True_True_True_801.pth'))\n",
    "# model.load_state_dict(torch.load('./models/primal_model_N30-1000_SAGE_5_True_True_True.pth'))\n",
    "# model.load_state_dict(torch.load('./models/primal_model_N30-1000_SAGE_9_True_True_True.pth'))\n",
    "# model.load_state_dict(torch.load('./models/primal_model_N30-1000_SAGE_15_True_True_True.pth'))\n",
    "model.load_state_dict(torch.load('./models/primal_model_N30-1000_SAGE_9_64_2_True_True_True.pth'))\n",
    "model.double()\n",
    "\n",
    "train_acc = validate(model,trainset,DEVICE)\n",
    "val_acc = validate(model,valset,DEVICE)\n",
    "test_acc_1 = validate(model,testset_1,DEVICE)\n",
    "test_acc_2 = validate(model,testset_2,DEVICE)\n",
    "test_acc_3 = validate(model,testset_3,DEVICE)\n",
    "test_acc_4 = validate(model,testset_4,DEVICE)\n",
    "print('Train acc: {:.4f}.'.format(train_acc))\n",
    "print('Val acc: {:.4f}.'.format(val_acc))\n",
    "print('Test acc 1: {:.4f}.'.format(test_acc_1))\n",
    "print('Test acc 2: {:.4f}.'.format(test_acc_2))\n",
    "print('Test acc 3: {:.4f}.'.format(test_acc_3))\n",
    "print('Test acc 4: {:.4f}.'.format(test_acc_4))"
   ]
  },
  {
   "cell_type": "code",
   "execution_count": 4,
   "metadata": {},
   "outputs": [
    {
     "data": {
      "text/plain": [
       "Data(x=[41, 16], edge_index=[2, 1640], ud_edges=[820], edge_map=[41, 41], X=[164, 164], S=[164, 164], Aty=[164, 164], C=[164, 164])"
      ]
     },
     "execution_count": 4,
     "metadata": {},
     "output_type": "execute_result"
    }
   ],
   "source": []
  }
 ],
 "metadata": {
  "interpreter": {
   "hash": "6548f5818eb0d21304c8b75b8d24fe6a88bc84b221a3961d704ebd009d182722"
  },
  "kernelspec": {
   "display_name": "Python 3.8.13 ('gnnsdp')",
   "language": "python",
   "name": "python3"
  },
  "language_info": {
   "codemirror_mode": {
    "name": "ipython",
    "version": 3
   },
   "file_extension": ".py",
   "mimetype": "text/x-python",
   "name": "python",
   "nbconvert_exporter": "python",
   "pygments_lexer": "ipython3",
   "version": "3.8.13"
  },
  "orig_nbformat": 4
 },
 "nbformat": 4,
 "nbformat_minor": 2
}
