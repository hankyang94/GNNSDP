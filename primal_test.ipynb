{
 "cells": [
  {
   "cell_type": "code",
   "execution_count": 13,
   "metadata": {},
   "outputs": [],
   "source": [
    "import torch\n",
    "import torch.nn as nn\n",
    "import torch.nn.functional as F \n",
    "import numpy as np \n",
    "import torch_geometric.nn as pyg_nn \n",
    "import torch_geometric.utils as pyg_utils\n",
    "from torch_geometric.data import Dataset, Data, DataLoader\n",
    "import torch.optim as optim\n",
    "import os.path as osp\n",
    "import scipy.io as sio\n",
    "from dataset import QUASARDataset\n",
    "from primal_model import PrimalModel\n",
    "from primal_train import validate"
   ]
  },
  {
   "cell_type": "code",
   "execution_count": 14,
   "metadata": {},
   "outputs": [
    {
     "name": "stdout",
     "output_type": "stream",
     "text": [
      "Data graph type: 1.\n",
      "Data graph type: 1.\n",
      "Data graph type: 1.\n",
      "Data graph type: 1.\n",
      "Data graph type: 1.\n",
      "Data graph type: 1.\n"
     ]
    }
   ],
   "source": [
    "test_dir_1 = '/home/hank/Datasets/QUASAR/small'\n",
    "testset_1 = QUASARDataset(test_dir_1,num_graphs=100,remove_self_loops=True)\n",
    "test_dir_2 = '/home/hank/Datasets/QUASAR/small-test'\n",
    "testset_2 = QUASARDataset(test_dir_2,num_graphs=100,remove_self_loops=True)\n",
    "test_dir_3 = '/home/hank/Datasets/QUASAR/N40-100'\n",
    "testset_3 = QUASARDataset(test_dir_3,num_graphs=100,remove_self_loops=True)\n",
    "test_dir_4 = '/home/hank/Datasets/QUASAR/N50-100'\n",
    "testset_4 = QUASARDataset(test_dir_4,num_graphs=100,remove_self_loops=True)\n",
    "train_dir = '/home/hank/Datasets/QUASAR/N30-1000'\n",
    "trainset = QUASARDataset(train_dir,num_graphs=1000,remove_self_loops=True)\n",
    "val_dir = '/home/hank/Datasets/QUASAR/N30-100'\n",
    "valset = QUASARDataset(val_dir,num_graphs=100,remove_self_loops=True)\n",
    "DEVICE = torch.device('cpu')"
   ]
  },
  {
   "cell_type": "code",
   "execution_count": 15,
   "metadata": {},
   "outputs": [
    {
     "name": "stdout",
     "output_type": "stream",
     "text": [
      "Model: node_feature_mode = 1, mp_input_dim = 6, relu_slope = 0.1. GNN type: SAGE. Residual: True. BatchNorm: True. Factor: True. Resmode: 1.\n"
     ]
    },
    {
     "name": "stderr",
     "output_type": "stream",
     "text": [
      "/home/hank/miniconda3/envs/gnnsdp/lib/python3.8/site-packages/torch_geometric/deprecation.py:12: UserWarning: 'data.DataLoader' is deprecated, use 'loader.DataLoader' instead\n",
      "  warnings.warn(out)\n"
     ]
    },
    {
     "name": "stdout",
     "output_type": "stream",
     "text": [
      "Train acc: 0.6781.\n",
      "Val acc: 0.7084.\n",
      "Test acc 1: 0.7644.\n",
      "Test acc 2: 0.7328.\n",
      "Test acc 3: 0.7517.\n",
      "Test acc 4: 0.7315.\n"
     ]
    }
   ],
   "source": [
    "GNN_TYPE = 'SAGE'\n",
    "GNN_HIDDEN_DIM = 128\n",
    "GNN_OUT_DIM = GNN_HIDDEN_DIM\n",
    "GNN_LAYER = 15\n",
    "LR = 0.01\n",
    "NODE_MODE = 1\n",
    "DATA_GRAPH_TYPE = 1\n",
    "NUM_EPOCHES = 1000\n",
    "DROPOUT = 0.5\n",
    "MLP_LAYER = 2\n",
    "RESIDUAL = True\n",
    "BATCHNORM = True\n",
    "FACTOR = True\n",
    "model = PrimalModel(\n",
    "    node_feature_mode=NODE_MODE,\n",
    "    gnn_type=GNN_TYPE,\n",
    "    mp_hidden_dim=GNN_HIDDEN_DIM,mp_output_dim=GNN_OUT_DIM,mp_num_layers=GNN_LAYER, \n",
    "    primal_node_mlp_hidden_dim=GNN_OUT_DIM,primal_node_mlp_output_dim=10,\n",
    "    node_mlp_num_layers=MLP_LAYER,\n",
    "    primal_edge_mlp_hidden_dim=GNN_OUT_DIM,primal_edge_mlp_output_dim=10,\n",
    "    edge_mlp_num_layers=MLP_LAYER,\n",
    "    dropout_rate=DROPOUT,\n",
    "    relu_slope=0.1,\n",
    "    residual=RESIDUAL,\n",
    "    batchnorm=BATCHNORM,\n",
    "    factor=FACTOR)\n",
    "# print(model)\n",
    "# model.load_state_dict(torch.load('./models/primal_model_N30-1000_SAGE_9_True_True_True_801.pth'))\n",
    "# model.load_state_dict(torch.load('./models/primal_model_N30-1000_SAGE_5_True_True_True.pth'))\n",
    "# model.load_state_dict(torch.load('./models/primal_model_N30-1000_SAGE_9_True_True_True.pth'))\n",
    "# model.load_state_dict(torch.load('./models/primal_model_N30-1000_SAGE_15_True_True_True.pth'))\n",
    "# model.load_state_dict(torch.load('./models/primal_model_N30-1000_SAGE_9_64_2_True_True_True.pth'))\n",
    "model.load_state_dict(torch.load('./models/primal_model_N30-1000_SAGE_15_128_2_True_True_True.pth'))\n",
    "model.double()\n",
    "BATCH_SIZE = 5\n",
    "train_acc = validate(model,trainset,DEVICE,batch_size=BATCH_SIZE)\n",
    "val_acc = validate(model,valset,DEVICE,batch_size=BATCH_SIZE)\n",
    "test_acc_1 = validate(model,testset_1,DEVICE,batch_size=BATCH_SIZE)\n",
    "test_acc_2 = validate(model,testset_2,DEVICE,batch_size=BATCH_SIZE)\n",
    "test_acc_3 = validate(model,testset_3,DEVICE,batch_size=BATCH_SIZE)\n",
    "test_acc_4 = validate(model,testset_4,DEVICE,batch_size=BATCH_SIZE)\n",
    "print('Train acc: {:.4f}.'.format(train_acc))\n",
    "print('Val acc: {:.4f}.'.format(val_acc))\n",
    "print('Test acc 1: {:.4f}.'.format(test_acc_1))\n",
    "print('Test acc 2: {:.4f}.'.format(test_acc_2))\n",
    "print('Test acc 3: {:.4f}.'.format(test_acc_3))\n",
    "print('Test acc 4: {:.4f}.'.format(test_acc_4))"
   ]
  },
  {
   "cell_type": "code",
   "execution_count": 12,
   "metadata": {},
   "outputs": [
    {
     "name": "stdout",
     "output_type": "stream",
     "text": [
      "[[0.84126486 1.66289054 0.77924311 0.79788334 1.14701972 1.57561252\n",
      "  0.23774288 1.0335255 ]\n",
      " [1.66289054 0.41654491 1.664809   0.98979742 0.84908494 1.27320907\n",
      "  0.74318917 0.37843264]\n",
      " [0.77924311 1.664809   0.62817578 1.03092902 1.07949187 0.31334236\n",
      "  1.26428875 1.31925805]\n",
      " [0.79788334 0.98979742 1.03092902 0.70343573 1.10954436 0.97311811\n",
      "  1.22105531 0.62859682]\n",
      " [1.14701972 0.84908494 1.07949187 1.10954436 1.40433283 0.81997087\n",
      "  0.54406743 0.99736633]\n",
      " [1.57561252 1.27320907 0.31334236 0.97311811 0.81997087 0.09778169\n",
      "  0.79441776 1.39913408]\n",
      " [0.23774288 0.74318917 1.26428875 1.22105531 0.54406743 0.79441776\n",
      "  1.43585141 0.88163077]\n",
      " [1.0335255  0.37843264 1.31925805 0.62859682 0.99736633 1.39913408\n",
      "  0.88163077 0.85137892]]\n",
      "[[0.84126486 1.66289054 0.77924311 0.79788334 0.41654491 1.664809\n",
      "  0.98979742 0.62817578 1.03092902 0.70343573]\n",
      " [1.40433283 0.81997087 0.54406743 0.99736633 0.09778169 0.79441776\n",
      "  1.39913408 1.43585141 0.88163077 0.85137892]]\n",
      "[[1.57561252 0.23774288 1.0335255  0.74318917 0.37843264 1.31925805]]\n",
      "tensor([[0.4088],\n",
      "        [0.6014],\n",
      "        [0.6771],\n",
      "        [0.7188],\n",
      "        [0.2900],\n",
      "        [0.9887],\n",
      "        [0.6724],\n",
      "        [0.7096],\n",
      "        [0.6920],\n",
      "        [0.9816],\n",
      "        [0.4119],\n",
      "        [0.3206],\n",
      "        [0.5840],\n",
      "        [0.3568],\n",
      "        [0.0550],\n",
      "        [0.8025]])\n",
      "tensor([[0.4088, 0.6014, 0.6771, 0.7188],\n",
      "        [0.2900, 0.9887, 0.6724, 0.7096],\n",
      "        [0.6920, 0.9816, 0.4119, 0.3206],\n",
      "        [0.5840, 0.3568, 0.0550, 0.8025]])\n",
      "[[0.26846496 0.05652146 0.91529905 0.93829035]\n",
      " [0.46337103 0.32400748 0.52195114 0.11000519]\n",
      " [0.79826992 0.98095774 0.51120562 0.94078346]\n",
      " [0.52752207 0.9506442  0.0472231  0.08824294]]\n",
      "[0.26846496 0.05652146 0.91529905 0.93829035 0.46337103 0.32400748\n",
      " 0.52195114 0.11000519 0.79826992 0.98095774 0.51120562 0.94078346\n",
      " 0.52752207 0.9506442  0.0472231  0.08824294]\n"
     ]
    }
   ],
   "source": [
    "from dataset import gen_index_map, flatten_Aty\n",
    "num_nodes = 1\n",
    "ud_edges  = torch.triu(\n",
    "                    torch.ones(num_nodes+1,num_nodes+1) - torch.eye(num_nodes+1)).nonzero().t().contiguous()\n",
    "ud_edges        = ud_edges.t().tolist()\n",
    "edge_map        = gen_index_map(ud_edges,num_nodes+1)\n",
    "\n",
    "b = np.random.rand(8,8)\n",
    "A = b + b.T\n",
    "print(A)\n",
    "v, e = flatten_Aty(A,edge_map)\n",
    "print(v)\n",
    "print(e)\n",
    "\n",
    "a = torch.rand((16,1))\n",
    "print(a)\n",
    "print(a.view(4,4))\n",
    "\n",
    "A = np.random.rand(4,4)\n",
    "print(A)\n",
    "print(np.reshape(A,(16,)))"
   ]
  }
 ],
 "metadata": {
  "interpreter": {
   "hash": "6548f5818eb0d21304c8b75b8d24fe6a88bc84b221a3961d704ebd009d182722"
  },
  "kernelspec": {
   "display_name": "Python 3.8.13 ('gnnsdp')",
   "language": "python",
   "name": "python3"
  },
  "language_info": {
   "codemirror_mode": {
    "name": "ipython",
    "version": 3
   },
   "file_extension": ".py",
   "mimetype": "text/x-python",
   "name": "python",
   "nbconvert_exporter": "python",
   "pygments_lexer": "ipython3",
   "version": "3.8.13"
  },
  "orig_nbformat": 4
 },
 "nbformat": 4,
 "nbformat_minor": 2
}
