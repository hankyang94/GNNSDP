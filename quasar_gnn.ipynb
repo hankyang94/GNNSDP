{
 "cells": [
  {
   "cell_type": "code",
   "execution_count": 6,
   "metadata": {},
   "outputs": [],
   "source": [
    "import torch\n",
    "import torch.nn as nn\n",
    "import torch.nn.functional as F \n",
    "import numpy as np \n",
    "import torch_geometric.nn as pyg_nn \n",
    "import torch_geometric.utils as pyg_utils\n",
    "from torch_geometric.data import Dataset, Data, DataLoader\n",
    "import torch.optim as optim\n",
    "import os.path as osp\n",
    "import scipy.io as sio\n",
    "from datetime import datetime\n",
    "from tensorboardX import SummaryWriter\n",
    "from dataset import QUASARDataset\n",
    "from model import ModelS"
   ]
  },
  {
   "cell_type": "code",
   "execution_count": 7,
   "metadata": {},
   "outputs": [
    {
     "name": "stdout",
     "output_type": "stream",
     "text": [
      "Data graph type: 1.\n",
      "Data graph type: 1.\n"
     ]
    }
   ],
   "source": [
    "dir = '/home/hank/Datasets/QUASAR/small'\n",
    "dataset = QUASARDataset(dir,num_graphs=100,remove_self_loops=True)\n",
    "test_dir = '/home/hank/Datasets/QUASAR/small-test'\n",
    "testset = QUASARDataset(test_dir,num_graphs=100,remove_self_loops=True)"
   ]
  },
  {
   "cell_type": "code",
   "execution_count": 8,
   "metadata": {},
   "outputs": [
    {
     "name": "stdout",
     "output_type": "stream",
     "text": [
      "Model: node_feature_mode = 1, mp_input_dim = 6, relu_slope = 0.1. GNN type: SAGE. Residual: True. Losspow: 1.\n"
     ]
    },
    {
     "data": {
      "text/plain": [
       "ModelS(\n",
       "  (mp_convs): ModuleList(\n",
       "    (0): SAGEConv(6, 64)\n",
       "    (1): SAGEConv(64, 64)\n",
       "    (2): SAGEConv(64, 64)\n",
       "    (3): SAGEConv(64, 64)\n",
       "    (4): SAGEConv(64, 64)\n",
       "    (5): SAGEConv(64, 64)\n",
       "    (6): SAGEConv(64, 64)\n",
       "    (7): SAGEConv(64, 64)\n",
       "    (8): SAGEConv(64, 64)\n",
       "  )\n",
       "  (primal_node_mlp): ModuleList(\n",
       "    (0): Linear(in_features=64, out_features=64, bias=True)\n",
       "    (1): Linear(in_features=64, out_features=64, bias=True)\n",
       "    (2): Linear(in_features=64, out_features=64, bias=True)\n",
       "    (3): Linear(in_features=64, out_features=10, bias=True)\n",
       "  )\n",
       "  (dual_node_mlp): ModuleList(\n",
       "    (0): Linear(in_features=64, out_features=64, bias=True)\n",
       "    (1): Linear(in_features=64, out_features=64, bias=True)\n",
       "    (2): Linear(in_features=64, out_features=64, bias=True)\n",
       "    (3): Linear(in_features=64, out_features=10, bias=True)\n",
       "  )\n",
       "  (primal_edge_mlp): ModuleList(\n",
       "    (0): Linear(in_features=64, out_features=64, bias=True)\n",
       "    (1): Linear(in_features=64, out_features=64, bias=True)\n",
       "    (2): Linear(in_features=64, out_features=64, bias=True)\n",
       "    (3): Linear(in_features=64, out_features=10, bias=True)\n",
       "  )\n",
       "  (dual_edge_mlp): ModuleList(\n",
       "    (0): Linear(in_features=64, out_features=64, bias=True)\n",
       "    (1): Linear(in_features=64, out_features=64, bias=True)\n",
       "    (2): Linear(in_features=64, out_features=64, bias=True)\n",
       "    (3): Linear(in_features=64, out_features=6, bias=True)\n",
       "  )\n",
       ")"
      ]
     },
     "execution_count": 8,
     "metadata": {},
     "output_type": "execute_result"
    }
   ],
   "source": [
    "GNN_TYPE = 'SAGE'\n",
    "GNN_HIDDEN_DIM = 64\n",
    "GNN_OUT_DIM = 64\n",
    "GNN_LAYER = 7\n",
    "NODE_MODE = 1\n",
    "DATA_GRAPH_TYPE = 1\n",
    "NUM_EPOCHES = 800\n",
    "DROPOUT = 0.0\n",
    "MLP_LAYER = 2\n",
    "RESIDUAL = True\n",
    "LOSSPOW = 1\n",
    "model   = ModelS(node_feature_mode=1,\n",
    "                    gnn_type=GNN_TYPE,\n",
    "                    mp_hidden_dim=GNN_HIDDEN_DIM,mp_output_dim=GNN_OUT_DIM,mp_num_layers=GNN_LAYER, \n",
    "                    primal_node_mlp_hidden_dim=GNN_OUT_DIM,primal_node_mlp_output_dim=10,\n",
    "                    dual_node_mlp_hidden_dim=GNN_OUT_DIM,dual_node_mlp_output_dim=10,\n",
    "                    primal_edge_mlp_hidden_dim=GNN_OUT_DIM,primal_edge_mlp_output_dim=10, \n",
    "                    dual_edge_mlp_hidden_dim=GNN_OUT_DIM,dual_edge_mlp_output_dim=6,\n",
    "                    primal_mlp_num_layers=MLP_LAYER, \n",
    "                    dual_mlp_num_layers=MLP_LAYER, \n",
    "                    dropout_rate=DROPOUT,\n",
    "                    relu_slope=0.1,\n",
    "                    residual=RESIDUAL,\n",
    "                    losspow=LOSSPOW)\n",
    "model.load_state_dict(torch.load('./models/shared_model_small_SAGE_7_True.pth'))\n",
    "model.double()\n",
    "model.eval()"
   ]
  },
  {
   "cell_type": "code",
   "execution_count": 9,
   "metadata": {},
   "outputs": [
    {
     "name": "stderr",
     "output_type": "stream",
     "text": [
      "/home/hank/miniconda3/envs/gnnsdp/lib/python3.8/site-packages/torch_geometric/deprecation.py:12: UserWarning: 'data.DataLoader' is deprecated, use 'loader.DataLoader' instead\n",
      "  warnings.warn(out)\n"
     ]
    },
    {
     "name": "stdout",
     "output_type": "stream",
     "text": [
      "Train primal acc: 0.0399\n",
      "Train dual acc: 0.3387.\n",
      "Test primal acc: 1.0451\n",
      "Test dual acc: 0.3527.\n"
     ]
    }
   ],
   "source": [
    "loader = DataLoader(dataset,batch_size=1,shuffle=True)\n",
    "train_p_loss = []\n",
    "train_d_loss = []\n",
    "for batch in loader:\n",
    "    x, X, S, Aty = model(batch)\n",
    "    primal_loss, dual_loss = model.pd_loss(batch,X,S,Aty)\n",
    "    train_p_loss.append(primal_loss.item())\n",
    "    train_d_loss.append(dual_loss.item())\n",
    "print('Train primal acc: {:.4f}'.format(torch.mean(torch.tensor(train_p_loss))))\n",
    "print('Train dual acc: {:.4f}.'.format(torch.mean(torch.tensor(train_d_loss))))\n",
    "\n",
    "loader = DataLoader(testset,batch_size=1,shuffle=True)\n",
    "test_p_loss = []\n",
    "test_d_loss = []\n",
    "for batch in loader:\n",
    "    x, X, S, Aty = model(batch)\n",
    "    primal_loss, dual_loss = model.pd_loss(batch,X,S,Aty)\n",
    "    test_p_loss.append(primal_loss.item())\n",
    "    test_d_loss.append(dual_loss.item())\n",
    "print('Test primal acc: {:.4f}'.format(torch.mean(torch.tensor(test_p_loss))))\n",
    "print('Test dual acc: {:.4f}.'.format(torch.mean(torch.tensor(test_d_loss))))"
   ]
  },
  {
   "cell_type": "code",
   "execution_count": 11,
   "metadata": {},
   "outputs": [
    {
     "name": "stdout",
     "output_type": "stream",
     "text": [
      "Model: node_feature_mode = 1, mp_input_dim = 6, relu_slope = 0.1. GNN type: SAGE. Residual: True. Losspow: 1.\n"
     ]
    },
    {
     "name": "stderr",
     "output_type": "stream",
     "text": [
      "/home/hank/miniconda3/envs/gnnsdp/lib/python3.8/site-packages/torch_geometric/deprecation.py:12: UserWarning: 'data.DataLoader' is deprecated, use 'loader.DataLoader' instead\n",
      "  warnings.warn(out)\n"
     ]
    },
    {
     "name": "stdout",
     "output_type": "stream",
     "text": [
      "Rand train primal acc: 1.2300\n",
      "Rand train dual acc: 1.0000.\n",
      "Rand test primal acc: 1.2333\n",
      "Rand test dual acc: 1.0000.\n"
     ]
    }
   ],
   "source": [
    "randmodel = ModelS(node_feature_mode=1,\n",
    "                    gnn_type=GNN_TYPE,\n",
    "                    mp_hidden_dim=GNN_HIDDEN_DIM,mp_output_dim=GNN_OUT_DIM,mp_num_layers=GNN_LAYER, \n",
    "                    primal_node_mlp_hidden_dim=GNN_OUT_DIM,primal_node_mlp_output_dim=10,\n",
    "                    dual_node_mlp_hidden_dim=GNN_OUT_DIM,dual_node_mlp_output_dim=10,\n",
    "                    primal_edge_mlp_hidden_dim=GNN_OUT_DIM,primal_edge_mlp_output_dim=10, \n",
    "                    dual_edge_mlp_hidden_dim=GNN_OUT_DIM,dual_edge_mlp_output_dim=6,\n",
    "                    primal_mlp_num_layers=MLP_LAYER, \n",
    "                    dual_mlp_num_layers=MLP_LAYER, \n",
    "                    dropout_rate=DROPOUT,\n",
    "                    relu_slope=0.1,\n",
    "                    residual=RESIDUAL,\n",
    "                    losspow=LOSSPOW)\n",
    "randmodel.double()\n",
    "randmodel.eval()\n",
    "\n",
    "loader = DataLoader(dataset,batch_size=1,shuffle=True)\n",
    "train_p_loss = []\n",
    "train_d_loss = []\n",
    "for batch in loader:\n",
    "    x, X, S, Aty = randmodel(batch)\n",
    "    primal_loss, dual_loss = randmodel.pd_loss(batch,X,S,Aty)\n",
    "    train_p_loss.append(primal_loss.item())\n",
    "    train_d_loss.append(dual_loss.item())\n",
    "print('Rand train primal acc: {:.4f}'.format(torch.mean(torch.tensor(train_p_loss))))\n",
    "print('Rand train dual acc: {:.4f}.'.format(torch.mean(torch.tensor(train_d_loss))))\n",
    "\n",
    "loader = DataLoader(testset,batch_size=1,shuffle=True)\n",
    "test_p_loss = []\n",
    "test_d_loss = []\n",
    "for batch in loader:\n",
    "    x, X, S, Aty = randmodel(batch)\n",
    "    primal_loss, dual_loss = randmodel.pd_loss(batch,X,S,Aty)\n",
    "    test_p_loss.append(primal_loss.item())\n",
    "    test_d_loss.append(dual_loss.item())\n",
    "print('Rand test primal acc: {:.4f}'.format(torch.mean(torch.tensor(test_p_loss))))\n",
    "print('Rand test dual acc: {:.4f}.'.format(torch.mean(torch.tensor(test_d_loss))))\n"
   ]
  }
 ],
 "metadata": {
  "interpreter": {
   "hash": "6548f5818eb0d21304c8b75b8d24fe6a88bc84b221a3961d704ebd009d182722"
  },
  "kernelspec": {
   "display_name": "Python 3.8.13 ('gnnsdp')",
   "language": "python",
   "name": "python3"
  },
  "language_info": {
   "codemirror_mode": {
    "name": "ipython",
    "version": 3
   },
   "file_extension": ".py",
   "mimetype": "text/x-python",
   "name": "python",
   "nbconvert_exporter": "python",
   "pygments_lexer": "ipython3",
   "version": "3.8.13"
  },
  "orig_nbformat": 4
 },
 "nbformat": 4,
 "nbformat_minor": 2
}
