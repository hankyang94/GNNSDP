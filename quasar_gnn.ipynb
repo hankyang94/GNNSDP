{
 "cells": [
  {
   "cell_type": "code",
   "execution_count": 1,
   "metadata": {},
   "outputs": [],
   "source": [
    "import torch\n",
    "import torch.nn as nn\n",
    "import torch.nn.functional as F \n",
    "import numpy as np \n",
    "import torch_geometric.nn as pyg_nn \n",
    "import torch_geometric.utils as pyg_utils\n",
    "from torch_geometric.data import Dataset, Data, DataLoader\n",
    "import torch.optim as optim\n",
    "import os.path as osp\n",
    "import scipy.io as sio\n",
    "from datetime import datetime\n",
    "from tensorboardX import SummaryWriter\n",
    "from dataset import QUASARDataset\n",
    "from model import ModelS"
   ]
  },
  {
   "cell_type": "code",
   "execution_count": 2,
   "metadata": {},
   "outputs": [],
   "source": [
    "dir = '/home/hank/Datasets/QUASAR/small'\n",
    "dataset = QUASARDataset(dir,num_graphs=100,remove_self_loops=True)"
   ]
  },
  {
   "cell_type": "code",
   "execution_count": 3,
   "metadata": {},
   "outputs": [
    {
     "name": "stdout",
     "output_type": "stream",
     "text": [
      "Model: node_feature_mode = 3, mp_input_dim = 16, relu_slope = 0.1. GNN type: SAGE.\n"
     ]
    },
    {
     "data": {
      "text/plain": [
       "ModelS(\n",
       "  (mp_convs): ModuleList(\n",
       "    (0): SAGEConv(16, 128)\n",
       "    (1): SAGEConv(128, 128)\n",
       "    (2): SAGEConv(128, 128)\n",
       "    (3): SAGEConv(128, 128)\n",
       "    (4): SAGEConv(128, 128)\n",
       "    (5): SAGEConv(128, 128)\n",
       "    (6): SAGEConv(128, 128)\n",
       "    (7): SAGEConv(128, 128)\n",
       "    (8): SAGEConv(128, 128)\n",
       "    (9): SAGEConv(128, 128)\n",
       "  )\n",
       "  (primal_node_mlp): ModuleList(\n",
       "    (0): Linear(in_features=128, out_features=64, bias=True)\n",
       "    (1): Linear(in_features=64, out_features=10, bias=True)\n",
       "  )\n",
       "  (dual_node_mlp): ModuleList(\n",
       "    (0): Linear(in_features=128, out_features=64, bias=True)\n",
       "    (1): Linear(in_features=64, out_features=10, bias=True)\n",
       "  )\n",
       "  (primal_edge_mlp): ModuleList(\n",
       "    (0): Linear(in_features=128, out_features=64, bias=True)\n",
       "    (1): Linear(in_features=64, out_features=10, bias=True)\n",
       "  )\n",
       "  (dual_edge_mlp): ModuleList(\n",
       "    (0): Linear(in_features=128, out_features=64, bias=True)\n",
       "    (1): Linear(in_features=64, out_features=6, bias=True)\n",
       "  )\n",
       ")"
      ]
     },
     "execution_count": 3,
     "metadata": {},
     "output_type": "execute_result"
    }
   ],
   "source": [
    "model   = ModelS(node_feature_mode=3,\n",
    "                     gnn_type='SAGE',\n",
    "                     mp_hidden_dim=128,mp_output_dim=128,mp_num_layers=8, \n",
    "                     primal_node_mlp_hidden_dim=64,primal_node_mlp_output_dim=10,\n",
    "                     dual_node_mlp_hidden_dim=64,dual_node_mlp_output_dim=10,\n",
    "                     node_mlp_num_layers=0,\n",
    "                     primal_edge_mlp_hidden_dim=64,primal_edge_mlp_output_dim=10, \n",
    "                     dual_edge_mlp_hidden_dim=64,dual_edge_mlp_output_dim=6, \n",
    "                     edge_mlp_num_layers=0, \n",
    "                     dropout_rate=0.0,\n",
    "                     relu_slope=0.1)\n",
    "model.load_state_dict(torch.load('./models/model_SAGE_8_128_128_20220505-210509.pth'))\n",
    "model.double()\n",
    "model.eval()"
   ]
  },
  {
   "cell_type": "code",
   "execution_count": 4,
   "metadata": {},
   "outputs": [
    {
     "name": "stdout",
     "output_type": "stream",
     "text": [
      "batch loss: 1.4276, primal: 0.9489, dual: 0.4788\n",
      "tensor([[ 0.2011,  0.0745, -0.0923,  ..., -0.0093,  0.0368,  0.0552],\n",
      "        [ 0.0745,  0.1219, -0.0401,  ...,  0.0105, -0.0066,  0.0514],\n",
      "        [-0.0923, -0.0401,  0.2030,  ..., -0.0066,  0.1044, -0.0700],\n",
      "        ...,\n",
      "        [-0.0093,  0.0105, -0.0066,  ...,  0.2140, -0.0444,  0.0487],\n",
      "        [ 0.0368, -0.0066,  0.1044,  ..., -0.0444,  0.1680, -0.0308],\n",
      "        [ 0.0552,  0.0514, -0.0700,  ...,  0.0487, -0.0308,  0.4000]],\n",
      "       dtype=torch.float64, grad_fn=<CatBackward0>)\n",
      "tensor([[ 5.2864e+03, -4.0884e+01,  2.0559e+02,  ...,  7.5325e-01,\n",
      "          1.3839e-01, -2.1197e-01],\n",
      "        [-4.0884e+01,  5.2038e+03,  1.1447e+02,  ...,  0.0000e+00,\n",
      "          6.5001e-01, -4.0258e-02],\n",
      "        [ 2.0559e+02,  1.1447e+02,  5.3085e+03,  ..., -6.5001e-01,\n",
      "          0.0000e+00,  5.0069e-01],\n",
      "        ...,\n",
      "        [ 7.5325e-01,  0.0000e+00, -6.5001e-01,  ..., -2.1735e+02,\n",
      "         -3.7321e+00,  7.1932e+00],\n",
      "        [ 1.3839e-01,  6.5001e-01,  0.0000e+00,  ..., -3.7321e+00,\n",
      "         -2.1729e+02, -4.0188e+00],\n",
      "        [-2.1197e-01, -4.0258e-02,  5.0069e-01,  ...,  7.1932e+00,\n",
      "         -4.0188e+00, -1.7070e+02]], dtype=torch.float64,\n",
      "       grad_fn=<CatBackward0>)\n",
      "[[ 0.132311   -0.26861433  0.0852054  ...  0.26861433 -0.0852054\n",
      "   0.18812545]\n",
      " [-0.26861433  0.54533376 -0.17298177 ... -0.54533376  0.17298177\n",
      "  -0.38192735]\n",
      " [ 0.0852054  -0.17298177  0.05487042 ...  0.17298177 -0.05487042\n",
      "   0.12114869]\n",
      " ...\n",
      " [ 0.26861433 -0.54533376  0.17298177 ...  0.54533376 -0.17298177\n",
      "   0.38192735]\n",
      " [-0.0852054   0.17298177 -0.05487042 ... -0.17298177  0.05487042\n",
      "  -0.12114869]\n",
      " [ 0.18812545 -0.38192735  0.12114869 ...  0.38192735 -0.12114869\n",
      "   0.26748482]]\n",
      "[[ 5.39884921e+03  1.20024913e+03 -9.24502232e+02 ... -5.44523663e+00\n",
      "  -3.33353999e+00  4.05713286e+00]\n",
      " [ 1.20024913e+03  3.13458297e+03  9.22442825e+02 ... -2.27373675e-13\n",
      "  -4.29149414e+00  1.19806560e+00]\n",
      " [-9.24502232e+02  9.22442825e+02  5.70103377e+03 ...  4.29149414e+00\n",
      "   2.84217094e-13 -3.30315129e-01]\n",
      " ...\n",
      " [-5.44523663e+00 -2.27373675e-13  4.29149414e+00 ... -2.29505351e+02\n",
      "   6.15510686e+01  5.74079914e+01]\n",
      " [-3.33353999e+00 -4.29149414e+00  2.84217094e-13 ...  6.15510686e+01\n",
      "  -4.37166660e+02  9.34530642e+01]\n",
      " [ 4.05713286e+00  1.19806560e+00 -3.30315129e-01 ...  5.74079914e+01\n",
      "   9.34530642e+01 -4.89611692e+01]]\n"
     ]
    },
    {
     "name": "stderr",
     "output_type": "stream",
     "text": [
      "/home/hank/miniconda3/envs/gnnsdp/lib/python3.8/site-packages/torch_geometric/deprecation.py:12: UserWarning: 'data.DataLoader' is deprecated, use 'loader.DataLoader' instead\n",
      "  warnings.warn(out)\n"
     ]
    }
   ],
   "source": [
    "loader = DataLoader(dataset,batch_size=1,shuffle=True)\n",
    "for batch in loader:\n",
    "    xorg = batch.x\n",
    "    x, X, S, Aty = model(batch)\n",
    "    primal_loss, dual_loss = model.loss(batch,X,S,Aty)\n",
    "    loss = primal_loss + dual_loss\n",
    "    print('batch loss: {:.4f}, primal: {:.4f}, dual: {:.4f}'.format(\n",
    "                loss.item(),primal_loss.item(),dual_loss.item()))\n",
    "    X = X[0]\n",
    "    Aty = Aty[0]\n",
    "    Xopt = batch.X[0]\n",
    "    Atyopt = batch.Aty[0]\n",
    "    print(X)\n",
    "    print(Aty)\n",
    "    print(Xopt)\n",
    "    print(Atyopt)\n",
    "    break\n"
   ]
  },
  {
   "cell_type": "code",
   "execution_count": 12,
   "metadata": {},
   "outputs": [
    {
     "name": "stdout",
     "output_type": "stream",
     "text": [
      "tensor([1, 1])\n",
      "tensor(-1)\n",
      "./models/model_SAGE_4_128_128_20220505-175752.pth\n"
     ]
    },
    {
     "data": {
      "text/plain": [
       "device(type='cuda')"
      ]
     },
     "execution_count": 12,
     "metadata": {},
     "output_type": "execute_result"
    }
   ],
   "source": [
    "a = torch.tensor([1,1,-1])\n",
    "print(a[:-1])\n",
    "print(a[-1])\n",
    "filename = f'./models/model_SAGE_{4}_{128}_{128}_{datetime.now().strftime(\"%Y%m%d-%H%M%S\")}.pth'\n",
    "print(filename)\n",
    "torch.device('cuda')"
   ]
  }
 ],
 "metadata": {
  "interpreter": {
   "hash": "6548f5818eb0d21304c8b75b8d24fe6a88bc84b221a3961d704ebd009d182722"
  },
  "kernelspec": {
   "display_name": "Python 3.8.13 ('gnnsdp')",
   "language": "python",
   "name": "python3"
  },
  "language_info": {
   "codemirror_mode": {
    "name": "ipython",
    "version": 3
   },
   "file_extension": ".py",
   "mimetype": "text/x-python",
   "name": "python",
   "nbconvert_exporter": "python",
   "pygments_lexer": "ipython3",
   "version": "3.8.13"
  },
  "orig_nbformat": 4
 },
 "nbformat": 4,
 "nbformat_minor": 2
}
