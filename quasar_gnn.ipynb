{
 "cells": [
  {
   "cell_type": "code",
   "execution_count": 4,
   "source": [
    "import torch\n",
    "import torch.nn as nn\n",
    "import torch.nn.functional as F \n",
    "import numpy as np \n",
    "import torch_geometric.nn as pyg_nn \n",
    "import torch_geometric.utils as pyg_utils\n",
    "from torch_geometric.data import Dataset, Data, DataLoader\n",
    "import torch.optim as optim\n",
    "import os.path as osp\n",
    "import scipy.io as sio\n",
    "from dataset import QUASARDataset\n",
    "from model import ModelS"
   ],
   "outputs": [],
   "metadata": {}
  },
  {
   "cell_type": "code",
   "execution_count": 5,
   "source": [
    "dir = '/Users/hankyang/Datasets/QUASAR'\n",
    "dataset = QUASARDataset(dir,500)\n",
    "loader  = DataLoader(dataset,batch_size=1,shuffle=True)\n",
    "model   = ModelS(mp_input_dim=6,mp_hidden_dim=32,mp_output_dim=64,mp_num_layers=1, \n",
    "                 primal_node_mlp_hidden_dim=64,primal_node_mlp_output_dim=10,\n",
    "                 dual_node_mlp_hidden_dim=64,dual_node_mlp_output_dim=10,\n",
    "                 node_mlp_num_layers=1,\n",
    "                 primal_edge_mlp_hidden_dim=64,primal_edge_mlp_output_dim=10, \n",
    "                 dual_edge_mlp_hidden_dim=64,dual_edge_mlp_output_dim=6, \n",
    "                 edge_mlp_num_layers=1, \n",
    "                 dropout_rate=0.2)"
   ],
   "outputs": [],
   "metadata": {}
  },
  {
   "cell_type": "code",
   "execution_count": 6,
   "source": [
    "model.double()\n",
    "opt = optim.Adam(model.parameters(),lr=0.01)\n",
    "num_epoches = 10\n",
    "for epoch in range(num_epoches):\n",
    "    total_loss = 0\n",
    "    model.train()\n",
    "    for i in range(len(dataset)):\n",
    "        opt.zero_grad()\n",
    "        data = dataset.__getitem__(i)\n",
    "        x, X, S, Aty = model(data)\n",
    "        loss = model.loss(data,X,S,Aty)\n",
    "        loss.backward()\n",
    "        opt.step()\n",
    "        total_loss += loss.item()\n",
    "    total_loss /= len(dataset)\n",
    "    print(\"Epoch {}. Loss: {:.4f}.\".format(epoch, total_loss))\n",
    "\n",
    "\n"
   ],
   "outputs": [
    {
     "output_type": "stream",
     "name": "stdout",
     "text": [
      "Epoch 0. Loss: 10715.5473.\n",
      "Epoch 1. Loss: 10715.3170.\n",
      "Epoch 2. Loss: 10715.3312.\n",
      "Epoch 3. Loss: 10715.3707.\n",
      "Epoch 4. Loss: 10714.8214.\n",
      "Epoch 5. Loss: 10712.3397.\n",
      "Epoch 6. Loss: 10701.4356.\n",
      "Epoch 7. Loss: 10669.0511.\n",
      "Epoch 8. Loss: 10440.6808.\n",
      "Epoch 9. Loss: 10208.8620.\n"
     ]
    }
   ],
   "metadata": {}
  },
  {
   "cell_type": "code",
   "execution_count": 7,
   "source": [
    "print(model.dual_edge_mlp_output_dim)"
   ],
   "outputs": [
    {
     "output_type": "stream",
     "name": "stdout",
     "text": [
      "6\n"
     ]
    }
   ],
   "metadata": {}
  }
 ],
 "metadata": {
  "orig_nbformat": 4,
  "language_info": {
   "name": "python",
   "version": "3.8.13",
   "mimetype": "text/x-python",
   "codemirror_mode": {
    "name": "ipython",
    "version": 3
   },
   "pygments_lexer": "ipython3",
   "nbconvert_exporter": "python",
   "file_extension": ".py"
  },
  "kernelspec": {
   "name": "python3",
   "display_name": "Python 3.8.13 64-bit ('gnnsdp': conda)"
  },
  "interpreter": {
   "hash": "fb02ce160b1ce38f1f8273f7fbdcd1a85000978aa7db8bbd86770a5b36cc1e21"
  }
 },
 "nbformat": 4,
 "nbformat_minor": 2
}