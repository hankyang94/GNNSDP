{
 "cells": [
  {
   "cell_type": "code",
   "execution_count": 1,
   "metadata": {},
   "outputs": [],
   "source": [
    "import torch\n",
    "import torch.nn as nn\n",
    "import torch.nn.functional as F \n",
    "import numpy as np \n",
    "import torch_geometric.nn as pyg_nn \n",
    "import torch_geometric.utils as pyg_utils\n",
    "from torch_geometric.data import Dataset, Data, DataLoader\n",
    "import torch.optim as optim\n",
    "import os.path as osp\n",
    "import scipy.io as sio\n",
    "from dataset import QUASARDataset\n",
    "from dual_model import DualModel, DualModelFtype\n",
    "from dual_train import validate"
   ]
  },
  {
   "cell_type": "code",
   "execution_count": 2,
   "metadata": {},
   "outputs": [
    {
     "name": "stdout",
     "output_type": "stream",
     "text": [
      "Data graph type: 1.\n",
      "Data graph type: 1.\n",
      "Data graph type: 1.\n",
      "Data graph type: 1.\n",
      "Data graph type: 1.\n",
      "Data graph type: 1.\n"
     ]
    }
   ],
   "source": [
    "test_dir_1 = '/home/hank/Datasets/QUASAR/small'\n",
    "testset_1 = QUASARDataset(test_dir_1,num_graphs=100,remove_self_loops=True)\n",
    "test_dir_2 = '/home/hank/Datasets/QUASAR/small-test'\n",
    "testset_2 = QUASARDataset(test_dir_2,num_graphs=100,remove_self_loops=True)\n",
    "test_dir_3 = '/home/hank/Datasets/QUASAR/N40-100'\n",
    "testset_3 = QUASARDataset(test_dir_3,num_graphs=100,remove_self_loops=True)\n",
    "test_dir_4 = '/home/hank/Datasets/QUASAR/N50-100'\n",
    "testset_4 = QUASARDataset(test_dir_4,num_graphs=100,remove_self_loops=True)\n",
    "train_dir = '/home/hank/Datasets/QUASAR/N30-1000'\n",
    "trainset = QUASARDataset(train_dir,num_graphs=1000,remove_self_loops=True)\n",
    "val_dir = '/home/hank/Datasets/QUASAR/N30-100'\n",
    "valset = QUASARDataset(val_dir,num_graphs=100,remove_self_loops=True)\n",
    "DEVICE = torch.device('cpu')"
   ]
  },
  {
   "cell_type": "code",
   "execution_count": 3,
   "metadata": {},
   "outputs": [
    {
     "name": "stdout",
     "output_type": "stream",
     "text": [
      "Model: node_feature_mode = 1, mp_input_dim = 6, relu_slope = 0.1. GNN type: SAGE. Residual: True. BatchNorm: True.\n"
     ]
    },
    {
     "name": "stderr",
     "output_type": "stream",
     "text": [
      "/home/hank/miniconda3/envs/gnnsdp/lib/python3.8/site-packages/torch_geometric/deprecation.py:12: UserWarning: 'data.DataLoader' is deprecated, use 'loader.DataLoader' instead\n",
      "  warnings.warn(out)\n"
     ]
    },
    {
     "name": "stdout",
     "output_type": "stream",
     "text": [
      "Train acc: 0.2818.\n",
      "Val acc: 0.2711.\n",
      "Test acc 1: 0.4969.\n",
      "Test acc 2: 0.4917.\n",
      "Test acc 3: 0.3608.\n",
      "Test acc 4: 0.4552.\n"
     ]
    }
   ],
   "source": [
    "GNN_TYPE = 'SAGE'\n",
    "GNN_HIDDEN_DIM = 64\n",
    "GNN_OUT_DIM = GNN_HIDDEN_DIM\n",
    "GNN_LAYER = 7\n",
    "NODE_MODE = 1\n",
    "DATA_GRAPH_TYPE = 1\n",
    "NUM_EPOCHES = 1000\n",
    "DROPOUT = 0.2\n",
    "MLP_LAYER = 2\n",
    "RESIDUAL = True\n",
    "BATCHNORM = True\n",
    "model = DualModelFtype(\n",
    "        node_feature_mode=NODE_MODE,\n",
    "        gnn_type=GNN_TYPE,\n",
    "        mp_hidden_dim=GNN_HIDDEN_DIM,mp_output_dim=GNN_OUT_DIM,mp_num_layers=GNN_LAYER, \n",
    "        dual_node_mlp_hidden_dim=GNN_OUT_DIM,dual_node_mlp_output_dim=10,\n",
    "        node_mlp_num_layers=MLP_LAYER,\n",
    "        dual_edge_mlp_hidden_dim=GNN_OUT_DIM,dual_edge_mlp_output_dim=6,\n",
    "        edge_mlp_num_layers=MLP_LAYER,\n",
    "        dropout_rate=DROPOUT,\n",
    "        relu_slope=0.1,\n",
    "        residual=RESIDUAL,\n",
    "        batchnorm=BATCHNORM)\n",
    "model.load_state_dict(torch.load('./models/dual_model_N30-1000_SAGE_7_64_2_True_True_201.pth'))\n",
    "model.double()\n",
    "\n",
    "BATCH_SIZE = 5\n",
    "train_acc = validate(model,trainset,DEVICE,batch_size=BATCH_SIZE)\n",
    "val_acc = validate(model,valset,DEVICE,batch_size=BATCH_SIZE)\n",
    "test_acc_1 = validate(model,testset_1,DEVICE,batch_size=BATCH_SIZE)\n",
    "test_acc_2 = validate(model,testset_2,DEVICE,batch_size=BATCH_SIZE)\n",
    "test_acc_3 = validate(model,testset_3,DEVICE,batch_size=BATCH_SIZE)\n",
    "test_acc_4 = validate(model,testset_4,DEVICE,batch_size=BATCH_SIZE)\n",
    "print('Train acc: {:.4f}.'.format(train_acc))\n",
    "print('Val acc: {:.4f}.'.format(val_acc))\n",
    "print('Test acc 1: {:.4f}.'.format(test_acc_1))\n",
    "print('Test acc 2: {:.4f}.'.format(test_acc_2))\n",
    "print('Test acc 3: {:.4f}.'.format(test_acc_3))\n",
    "print('Test acc 4: {:.4f}.'.format(test_acc_4))"
   ]
  }
 ],
 "metadata": {
  "interpreter": {
   "hash": "6548f5818eb0d21304c8b75b8d24fe6a88bc84b221a3961d704ebd009d182722"
  },
  "kernelspec": {
   "display_name": "Python 3.8.13 ('gnnsdp')",
   "language": "python",
   "name": "python3"
  },
  "language_info": {
   "codemirror_mode": {
    "name": "ipython",
    "version": 3
   },
   "file_extension": ".py",
   "mimetype": "text/x-python",
   "name": "python",
   "nbconvert_exporter": "python",
   "pygments_lexer": "ipython3",
   "version": "3.8.13"
  },
  "orig_nbformat": 4
 },
 "nbformat": 4,
 "nbformat_minor": 2
}
