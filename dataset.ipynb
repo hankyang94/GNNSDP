{
 "cells": [
  {
   "cell_type": "code",
   "execution_count": 1,
   "metadata": {},
   "outputs": [],
   "source": [
    "import torch\n",
    "import torch.nn as nn\n",
    "import torch.nn.functional as F \n",
    "import numpy as np \n",
    "import torch_geometric.nn as pyg_nn \n",
    "import torch_geometric.utils as pyg_utils\n",
    "from torch_geometric.data import Dataset, Data, DataLoader\n",
    "import torch.optim as optim\n",
    "import os.path as osp\n",
    "import scipy.io as sio\n",
    "import h5py"
   ]
  },
  {
   "cell_type": "code",
   "execution_count": 65,
   "metadata": {},
   "outputs": [
    {
     "name": "stdout",
     "output_type": "stream",
     "text": [
      "<KeysViewHDF5 ['C', 'Rgt', 'S', 'X', 'barc2', 'eta', 'opt', 'outlier', 'points', 'q', 'theta']>\n",
      "<HDF5 dataset \"S\": shape (1, 5000), type \"|O\">\n",
      "[[ 1.51597801e+04  8.97270435e+02 -1.41850708e+03 ... -1.56159430e+02\n",
      "   9.87545382e+01 -7.14624001e-02]\n",
      " [ 8.97270435e+02  1.62547005e+04  1.77621728e+02 ...  3.77048724e+02\n",
      "   6.49655871e+01 -4.62694040e+00]\n",
      " [-1.41850708e+03  1.77621728e+02  1.58723510e+04 ...  4.54797758e+01\n",
      "   4.29498252e+02 -7.33427462e+00]\n",
      " ...\n",
      " [-1.56159430e+02  3.77048724e+02  4.54797758e+01 ...  3.77905176e+02\n",
      "   5.06179575e+01 -2.91630421e+00]\n",
      " [ 9.87545382e+01  6.49655871e+01  4.29498252e+02 ...  5.06179575e+01\n",
      "   4.28052384e+02 -2.69294695e+00]\n",
      " [-7.14624001e-02 -4.62694040e+00 -7.33427462e+00 ... -2.91630421e+00\n",
      "  -2.69294695e+00  2.49073981e-01]]\n"
     ]
    }
   ],
   "source": [
    "fname = '/home/hank/Datasets/QUASAR/N50-5000/raw/quasar_sol.mat'\n",
    "\n",
    "\n",
    "\n",
    "with h5py.File(fname,'r') as f:\n",
    "    print(f['log_data'].keys())\n",
    "    C = f['log_data']['C']\n",
    "    S = f['log_data']['S']\n",
    "    points = f['log_data']['points']\n",
    "    q = f['log_data']['q']\n",
    "\n",
    "    print(S)\n",
    "    res = np.array(f[S[0][0]])\n",
    "    print(res)"
   ]
  }
 ],
 "metadata": {
  "interpreter": {
   "hash": "6548f5818eb0d21304c8b75b8d24fe6a88bc84b221a3961d704ebd009d182722"
  },
  "kernelspec": {
   "display_name": "Python 3.8.13 ('gnnsdp')",
   "language": "python",
   "name": "python3"
  },
  "language_info": {
   "codemirror_mode": {
    "name": "ipython",
    "version": 3
   },
   "file_extension": ".py",
   "mimetype": "text/x-python",
   "name": "python",
   "nbconvert_exporter": "python",
   "pygments_lexer": "ipython3",
   "version": "3.8.13"
  },
  "orig_nbformat": 4
 },
 "nbformat": 4,
 "nbformat_minor": 2
}
